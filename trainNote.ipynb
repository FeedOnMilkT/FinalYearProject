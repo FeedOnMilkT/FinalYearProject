{
 "cells": [
  {
   "cell_type": "code",
   "execution_count": null,
   "id": "c0a1f126-1999-4fd6-88c9-a528e9b49174",
   "metadata": {},
   "outputs": [],
   "source": [
    "!ls"
   ]
  },
  {
   "cell_type": "code",
   "execution_count": null,
   "id": "41e33726-05b9-4b61-b8c1-e92dc93f9e8e",
   "metadata": {},
   "outputs": [],
   "source": [
    "%cd tools/"
   ]
  },
  {
   "cell_type": "code",
   "execution_count": null,
   "id": "b2d24921-af54-49b3-a63a-ca8f3aae9776",
   "metadata": {},
   "outputs": [],
   "source": [
    "!python train.py --cfg_file cfgs/kitti_models/Centerpoint_PP.yaml --epochs 80 --extra_tag new_training2"
   ]
  },
  {
   "cell_type": "code",
   "execution_count": null,
   "id": "6857d0f7-4d44-41b7-bd1b-3b4b32a860f1",
   "metadata": {},
   "outputs": [],
   "source": [
    "!python test.py --cfg_file cfgs/kitti_models/Centerpoint_PP.yaml --batch_size 4 --ckpt /workspace/FinalYearProject/output/kitti_models/Centerpoint_PP/new_training2/ckpt/checkpoint_epoch_19.pth --infer_time --detailed_perf --warmup_frames 10"
   ]
  },
  {
   "cell_type": "code",
   "execution_count": null,
   "id": "cc55817c-bc52-4587-8c05-e8f791d76760",
   "metadata": {},
   "outputs": [],
   "source": [
    "!python train.py --cfg_file cfgs/kitti_models/CenterPoint_DynPP_SE.yaml --epochs 45"
   ]
  },
  {
   "cell_type": "code",
   "execution_count": null,
   "id": "6cf7bdb7-0508-4814-8de3-792ae0d92713",
   "metadata": {},
   "outputs": [],
   "source": [
    "!python test.py --cfg_file cfgs/kitti_models/CenterPoint_DynPP_SE.yaml --batch_size 4 --ckpt /workspace/FinalYearProject/output/kitti_models/CenterPoint_DynPP_SE/default/ckpt/checkpoint_epoch_26.pth --infer_time --detailed_perf --warmup_frames 10"
   ]
  },
  {
   "cell_type": "code",
   "execution_count": null,
   "id": "ecb6527f-577d-4993-b6cd-f0a9ec604b43",
   "metadata": {},
   "outputs": [],
   "source": [
    "!python train.py --cfg_file cfgs/kitti_models/CenterPoint_DynPP_SE01.yaml --epochs 45"
   ]
  }
 ],
 "metadata": {
  "kernelspec": {
   "display_name": "Python 3 (ipykernel)",
   "language": "python",
   "name": "python3"
  },
  "language_info": {
   "codemirror_mode": {
    "name": "ipython",
    "version": 3
   },
   "file_extension": ".py",
   "mimetype": "text/x-python",
   "name": "python",
   "nbconvert_exporter": "python",
   "pygments_lexer": "ipython3",
   "version": "3.10.12"
  }
 },
 "nbformat": 4,
 "nbformat_minor": 5
}
